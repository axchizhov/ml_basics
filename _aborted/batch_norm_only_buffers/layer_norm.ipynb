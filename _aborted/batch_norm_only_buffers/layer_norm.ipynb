{
 "cells": [
  {
   "cell_type": "code",
   "execution_count": 1,
   "metadata": {},
   "outputs": [],
   "source": [
    "import os\n",
    "import random\n",
    "import torch\n",
    "import numpy as np\n",
    "\n",
    "np.set_printoptions(suppress=True)\n",
    "torch.set_printoptions(sci_mode=False)\n",
    "\n",
    "def setup_seed(seed=42):\n",
    "    torch.backends.cudnn.deterministic = True\n",
    "    torch.manual_seed(seed)\n",
    "    torch.cuda.manual_seed_all(seed)\n",
    "    np.random.seed(seed)\n",
    "    random.seed(seed)\n",
    "    os.environ[\"PYTHONHASHSEED\"] = str(seed)\n",
    "    \n",
    "setup_seed()"
   ]
  },
  {
   "cell_type": "code",
   "execution_count": 2,
   "metadata": {},
   "outputs": [
    {
     "data": {
      "text/plain": [
       "tensor([[-0.5197,  1.8524,  1.8365,  ...,  1.6612, -2.6223, -0.4319],\n",
       "        [-0.1010, -0.4388, -1.9775,  ..., -1.8040,  1.8377, -0.7219],\n",
       "        [ 0.6289, -0.0685, -1.2115,  ...,  0.1415,  1.8377, -0.2277],\n",
       "        ...,\n",
       "        [-0.1587,  1.6984, -0.0560,  ...,  0.1716,  0.8127, -0.6369],\n",
       "        [-1.3467,  0.6522, -1.3508,  ..., -0.4601,  0.1815,  0.1850],\n",
       "        [ 0.7205, -0.2833,  0.0937,  ...,  0.5409,  0.6940,  1.8563]])"
      ]
     },
     "execution_count": 2,
     "metadata": {},
     "output_type": "execute_result"
    }
   ],
   "source": [
    "setup_seed()\n",
    "\n",
    "normalized_shape = 128\n",
    "\n",
    "y = torch.randn(32, normalized_shape)\n",
    "\n",
    "X = torch.randn(32, normalized_shape)\n",
    "X"
   ]
  },
  {
   "cell_type": "code",
   "execution_count": 3,
   "metadata": {},
   "outputs": [
    {
     "data": {
      "text/plain": [
       "tensor([[    -0.6643,      1.5780,      1.5630,  ...,      1.3973,\n",
       "             -2.6518,     -0.5813],\n",
       "        [    -0.0014,     -0.3333,     -1.8453,  ...,     -1.6748,\n",
       "              1.9036,     -0.6115],\n",
       "        [     0.7076,     -0.1397,     -1.5283,  ...,      0.1155,\n",
       "              2.1761,     -0.3331],\n",
       "        ...,\n",
       "        [    -0.1107,      1.7803,     -0.0060,  ...,      0.2256,\n",
       "              0.8785,     -0.5976],\n",
       "        [    -1.4359,      0.7016,     -1.4403,  ...,     -0.4878,\n",
       "              0.1983,      0.2020],\n",
       "        [     0.6567,     -0.3300,      0.0406,  ...,      0.4802,\n",
       "              0.6306,      1.7731]], grad_fn=<NativeLayerNormBackward0>)"
      ]
     },
     "execution_count": 3,
     "metadata": {},
     "output_type": "execute_result"
    }
   ],
   "source": [
    "builtin_layer_norm = torch.nn.LayerNorm(normalized_shape)\n",
    "builtin_layer_norm(X)"
   ]
  },
  {
   "cell_type": "code",
   "execution_count": 4,
   "metadata": {},
   "outputs": [
    {
     "data": {
      "text/plain": [
       "[Parameter containing:\n",
       " tensor([1., 1., 1., 1., 1., 1., 1., 1., 1., 1., 1., 1., 1., 1., 1., 1., 1., 1.,\n",
       "         1., 1., 1., 1., 1., 1., 1., 1., 1., 1., 1., 1., 1., 1., 1., 1., 1., 1.,\n",
       "         1., 1., 1., 1., 1., 1., 1., 1., 1., 1., 1., 1., 1., 1., 1., 1., 1., 1.,\n",
       "         1., 1., 1., 1., 1., 1., 1., 1., 1., 1., 1., 1., 1., 1., 1., 1., 1., 1.,\n",
       "         1., 1., 1., 1., 1., 1., 1., 1., 1., 1., 1., 1., 1., 1., 1., 1., 1., 1.,\n",
       "         1., 1., 1., 1., 1., 1., 1., 1., 1., 1., 1., 1., 1., 1., 1., 1., 1., 1.,\n",
       "         1., 1., 1., 1., 1., 1., 1., 1., 1., 1., 1., 1., 1., 1., 1., 1., 1., 1.,\n",
       "         1., 1.], requires_grad=True),\n",
       " Parameter containing:\n",
       " tensor([0., 0., 0., 0., 0., 0., 0., 0., 0., 0., 0., 0., 0., 0., 0., 0., 0., 0., 0., 0., 0., 0., 0., 0.,\n",
       "         0., 0., 0., 0., 0., 0., 0., 0., 0., 0., 0., 0., 0., 0., 0., 0., 0., 0., 0., 0., 0., 0., 0., 0.,\n",
       "         0., 0., 0., 0., 0., 0., 0., 0., 0., 0., 0., 0., 0., 0., 0., 0., 0., 0., 0., 0., 0., 0., 0., 0.,\n",
       "         0., 0., 0., 0., 0., 0., 0., 0., 0., 0., 0., 0., 0., 0., 0., 0., 0., 0., 0., 0., 0., 0., 0., 0.,\n",
       "         0., 0., 0., 0., 0., 0., 0., 0., 0., 0., 0., 0., 0., 0., 0., 0., 0., 0., 0., 0., 0., 0., 0., 0.,\n",
       "         0., 0., 0., 0., 0., 0., 0., 0.], requires_grad=True)]"
      ]
     },
     "execution_count": 4,
     "metadata": {},
     "output_type": "execute_result"
    }
   ],
   "source": [
    "params = list(builtin_layer_norm.parameters())\n",
    "\n",
    "params"
   ]
  },
  {
   "cell_type": "code",
   "execution_count": 5,
   "metadata": {},
   "outputs": [],
   "source": [
    "error = (builtin_layer_norm(X) - y)**2\n",
    "error = error.sum()\n",
    "error.backward()\n",
    "\n",
    "# builtin_layer_norm(input_tensor).backward()\n"
   ]
  },
  {
   "cell_type": "code",
   "execution_count": 6,
   "metadata": {},
   "outputs": [
    {
     "data": {
      "text/plain": [
       "tensor(8320.5303, grad_fn=<SumBackward0>)"
      ]
     },
     "execution_count": 6,
     "metadata": {},
     "output_type": "execute_result"
    }
   ],
   "source": [
    "error"
   ]
  },
  {
   "cell_type": "code",
   "execution_count": 7,
   "metadata": {},
   "outputs": [
    {
     "data": {
      "text/plain": [
       "tensor([ 56.8991,  53.0642,  64.7571,  77.4292,  51.8013,  34.5774,  68.3558,\n",
       "         84.9231,  70.2401,  41.9221,  60.5019,  61.8583,  87.3300,  86.7715,\n",
       "         57.0997,  64.7705,  92.9782,  52.2718,  76.3927,  53.3727,  70.0271,\n",
       "         44.7156,  48.2270,  63.1499,  73.0357,  46.2417,  59.2834,  62.1753,\n",
       "         24.4343,  48.2572,  56.3098, 102.8503,  49.3163,  80.5047,  90.1483,\n",
       "         65.5341,  63.3679,  81.3550,  48.1293,  90.1231,  62.5487,  84.8202,\n",
       "         61.5340,  67.0921,  65.6296,  60.5733,  30.6680,  82.4995,  75.8112,\n",
       "         58.3419,  53.1004,  66.8580,  48.7943,  57.5068,  83.4672,  83.0650,\n",
       "         43.8958,  47.5017,  70.3146,  62.3127,  74.2883,  25.7525, 106.4405,\n",
       "         94.0248,  76.6682,  68.9015,  52.6952,  52.3498,  57.4855,  61.0286,\n",
       "         76.4142,  56.4901,  50.5821,  42.0063,  66.4569,  68.4997,  70.5565,\n",
       "         71.3253,  52.9540,  56.5001,  58.2040,  76.3519,  81.1820,  69.1193,\n",
       "         48.6353,  62.8500,  63.9958,  49.4465,  87.0537,  92.3961,  77.8566,\n",
       "         45.1675,  72.1778,  55.1043,  81.0735,  78.1451,  69.4238,  56.2344,\n",
       "         85.1008,  70.2682,  48.7720,  55.4009,  88.6104,  90.2096,  81.7149,\n",
       "         71.1048,  92.3988,  41.3276,  40.8038,  86.8890,  49.2700,  83.5408,\n",
       "         59.2030,  59.4466,  49.8853,  71.1544,  66.8449,  77.0708,  50.8101,\n",
       "         82.5885, 100.7488,  41.5848,  37.0158,  46.0322,  73.4302,  86.1561,\n",
       "         76.8538,  52.2306])"
      ]
     },
     "execution_count": 7,
     "metadata": {},
     "output_type": "execute_result"
    }
   ],
   "source": [
    "params[0].grad"
   ]
  },
  {
   "cell_type": "code",
   "execution_count": 8,
   "metadata": {},
   "outputs": [
    {
     "ename": "NameError",
     "evalue": "name 'x' is not defined",
     "output_type": "error",
     "traceback": [
      "\u001b[0;31m---------------------------------------------------------------------------\u001b[0m",
      "\u001b[0;31mNameError\u001b[0m                                 Traceback (most recent call last)",
      "Cell \u001b[0;32mIn[8], line 1\u001b[0m\n\u001b[0;32m----> 1\u001b[0m \u001b[43mx\u001b[49m\u001b[38;5;241m.\u001b[39mshape\n",
      "\u001b[0;31mNameError\u001b[0m: name 'x' is not defined"
     ]
    }
   ],
   "source": [
    "x.shape"
   ]
  },
  {
   "cell_type": "code",
   "execution_count": 9,
   "metadata": {},
   "outputs": [
    {
     "data": {
      "text/plain": [
       "[Parameter containing:\n",
       " tensor([1., 1., 1., 1., 1., 1., 1., 1., 1., 1., 1., 1., 1., 1., 1., 1., 1., 1.,\n",
       "         1., 1., 1., 1., 1., 1., 1., 1., 1., 1., 1., 1., 1., 1., 1., 1., 1., 1.,\n",
       "         1., 1., 1., 1., 1., 1., 1., 1., 1., 1., 1., 1., 1., 1., 1., 1., 1., 1.,\n",
       "         1., 1., 1., 1., 1., 1., 1., 1., 1., 1., 1., 1., 1., 1., 1., 1., 1., 1.,\n",
       "         1., 1., 1., 1., 1., 1., 1., 1., 1., 1., 1., 1., 1., 1., 1., 1., 1., 1.,\n",
       "         1., 1., 1., 1., 1., 1., 1., 1., 1., 1., 1., 1., 1., 1., 1., 1., 1., 1.,\n",
       "         1., 1., 1., 1., 1., 1., 1., 1., 1., 1., 1., 1., 1., 1., 1., 1., 1., 1.,\n",
       "         1., 1.], requires_grad=True),\n",
       " Parameter containing:\n",
       " tensor([0., 0., 0., 0., 0., 0., 0., 0., 0., 0., 0., 0., 0., 0., 0., 0., 0., 0., 0., 0., 0., 0., 0., 0.,\n",
       "         0., 0., 0., 0., 0., 0., 0., 0., 0., 0., 0., 0., 0., 0., 0., 0., 0., 0., 0., 0., 0., 0., 0., 0.,\n",
       "         0., 0., 0., 0., 0., 0., 0., 0., 0., 0., 0., 0., 0., 0., 0., 0., 0., 0., 0., 0., 0., 0., 0., 0.,\n",
       "         0., 0., 0., 0., 0., 0., 0., 0., 0., 0., 0., 0., 0., 0., 0., 0., 0., 0., 0., 0., 0., 0., 0., 0.,\n",
       "         0., 0., 0., 0., 0., 0., 0., 0., 0., 0., 0., 0., 0., 0., 0., 0., 0., 0., 0., 0., 0., 0., 0., 0.,\n",
       "         0., 0., 0., 0., 0., 0., 0., 0.], requires_grad=True)]"
      ]
     },
     "execution_count": 9,
     "metadata": {},
     "output_type": "execute_result"
    }
   ],
   "source": [
    "params"
   ]
  },
  {
   "cell_type": "code",
   "execution_count": 10,
   "metadata": {},
   "outputs": [
    {
     "name": "stdout",
     "output_type": "stream",
     "text": [
      "tensor([-4.6899, -4.3064, -5.4757, -6.7429, -4.1801, -2.4577, -5.8356, -7.4923,\n",
      "        -6.0240, -3.1922, -5.0502, -5.1858, -7.7330, -7.6772, -4.7100, -5.4771,\n",
      "        -8.2978, -4.2272, -6.6393, -4.3373, -6.0027, -3.4716, -3.8227, -5.3150,\n",
      "        -6.3036, -3.6242, -4.9283, -5.2175, -1.4434, -3.8257, -4.6310, -9.2850,\n",
      "        -3.9316, -7.0505, -8.0148, -5.5534, -5.3368, -7.1355, -3.8129, -8.0123,\n",
      "        -5.2549, -7.4820, -5.1534, -5.7092, -5.5630, -5.0573, -2.0668, -7.2500,\n",
      "        -6.5811, -4.8342, -4.3100, -5.6858, -3.8794, -4.7507, -7.3467, -7.3065,\n",
      "        -3.3896, -3.7502, -6.0315, -5.2313, -6.4288, -1.5753, -9.6441, -8.4025,\n",
      "        -6.6668, -5.8902, -4.2695, -4.2350, -4.7485, -5.1029, -6.6414, -4.6490,\n",
      "        -4.0582, -3.2006, -5.6457, -5.8500, -6.0556, -6.1325, -4.2954, -4.6500,\n",
      "        -4.8204, -6.6352, -7.1182, -5.9119, -3.8635, -5.2850, -5.3996, -3.9446,\n",
      "        -7.7054, -8.2396, -6.7857, -3.5167, -6.2178, -4.5104, -7.1073, -6.8145,\n",
      "        -5.9424, -4.6234, -7.5101, -6.0268, -3.8772, -4.5401, -7.8610, -8.0210,\n",
      "        -7.1715, -6.1105, -8.2399, -3.1328, -3.0804, -7.6889, -3.9270, -7.3541,\n",
      "        -4.9203, -4.9447, -3.9885, -6.1154, -5.6845, -6.7071, -4.0810, -7.2589,\n",
      "        -9.0749, -3.1585, -2.7016, -3.6032, -6.3430, -7.6156, -6.6854, -4.2231])\n",
      "tensor([-0.2632, -1.5086,  0.0896, -0.2567, -0.1544,  1.1862,  0.2253, -1.2739,\n",
      "        -2.7079, -3.3936, -0.7713, -1.1820,  2.7901,  1.8831,  1.3889,  1.5054,\n",
      "         1.0873, -0.9415,  3.5361,  2.2818,  2.3856, -2.0785,  3.1135,  2.2936,\n",
      "         0.0535, -1.0577,  0.3406,  4.4063, -0.3117, -0.9283, -0.0128, -2.2389,\n",
      "         0.8604, -2.0804, -1.8181, -0.4533, -0.8581, -2.0896,  0.2510, -1.6683,\n",
      "         0.1147,  2.8255, -0.8506, -0.5207,  0.2071, -0.9232, -0.1388,  1.6609,\n",
      "         2.2630, -0.4599, -1.6024,  3.4109, -2.2165, -0.0231, -2.1189, -2.1800,\n",
      "        -0.4440, -2.3346, -0.1624,  1.3552,  0.9681,  0.6515,  0.5985, -2.6164,\n",
      "        -1.9479, -0.1168,  2.7423, -0.2956, -0.5323, -0.3870,  1.0973, -0.3896,\n",
      "        -2.1402,  2.9084, -1.4504, -0.9128,  0.3392,  0.6417, -0.6856,  0.3294,\n",
      "         0.5554,  0.1526, -0.9352, -0.4770, -0.3685,  2.2810, -4.1047, -2.7233,\n",
      "         1.1832,  2.8560,  0.5156, -0.9086, -0.5806, -1.1968,  3.2130,  2.3649,\n",
      "        -3.1724,  0.5106,  1.6703, -3.4947,  0.1680,  1.2242, -0.5734,  0.6582,\n",
      "        -5.4511,  0.4463, -0.9353, -1.1976, -0.4566,  1.2171, -1.8966,  1.9601,\n",
      "        -0.1399, -2.0852,  0.6039,  1.0603, -0.8620, -2.5599, -1.1499,  3.4867,\n",
      "         3.1145, -1.6121,  0.4536,  1.4666,  2.2526,  3.3405,  0.2619,  0.6883])\n"
     ]
    }
   ],
   "source": [
    "with torch.no_grad():\n",
    "  for p in builtin_layer_norm.parameters():\n",
    "    learning_rate = 0.1\n",
    "    new_val = p - learning_rate * p.grad\n",
    "    print(new_val)\n",
    "    # p.copy_(new_val)"
   ]
  },
  {
   "cell_type": "code",
   "execution_count": 11,
   "metadata": {},
   "outputs": [
    {
     "data": {
      "text/plain": [
       "[('weight',\n",
       "  Parameter containing:\n",
       "  tensor([1., 1., 1., 1., 1., 1., 1., 1., 1., 1., 1., 1., 1., 1., 1., 1., 1., 1.,\n",
       "          1., 1., 1., 1., 1., 1., 1., 1., 1., 1., 1., 1., 1., 1., 1., 1., 1., 1.,\n",
       "          1., 1., 1., 1., 1., 1., 1., 1., 1., 1., 1., 1., 1., 1., 1., 1., 1., 1.,\n",
       "          1., 1., 1., 1., 1., 1., 1., 1., 1., 1., 1., 1., 1., 1., 1., 1., 1., 1.,\n",
       "          1., 1., 1., 1., 1., 1., 1., 1., 1., 1., 1., 1., 1., 1., 1., 1., 1., 1.,\n",
       "          1., 1., 1., 1., 1., 1., 1., 1., 1., 1., 1., 1., 1., 1., 1., 1., 1., 1.,\n",
       "          1., 1., 1., 1., 1., 1., 1., 1., 1., 1., 1., 1., 1., 1., 1., 1., 1., 1.,\n",
       "          1., 1.], requires_grad=True)),\n",
       " ('bias',\n",
       "  Parameter containing:\n",
       "  tensor([0., 0., 0., 0., 0., 0., 0., 0., 0., 0., 0., 0., 0., 0., 0., 0., 0., 0., 0., 0., 0., 0., 0., 0.,\n",
       "          0., 0., 0., 0., 0., 0., 0., 0., 0., 0., 0., 0., 0., 0., 0., 0., 0., 0., 0., 0., 0., 0., 0., 0.,\n",
       "          0., 0., 0., 0., 0., 0., 0., 0., 0., 0., 0., 0., 0., 0., 0., 0., 0., 0., 0., 0., 0., 0., 0., 0.,\n",
       "          0., 0., 0., 0., 0., 0., 0., 0., 0., 0., 0., 0., 0., 0., 0., 0., 0., 0., 0., 0., 0., 0., 0., 0.,\n",
       "          0., 0., 0., 0., 0., 0., 0., 0., 0., 0., 0., 0., 0., 0., 0., 0., 0., 0., 0., 0., 0., 0., 0., 0.,\n",
       "          0., 0., 0., 0., 0., 0., 0., 0.], requires_grad=True))]"
      ]
     },
     "execution_count": 11,
     "metadata": {},
     "output_type": "execute_result"
    }
   ],
   "source": [
    "list(builtin_layer_norm.named_parameters())"
   ]
  },
  {
   "cell_type": "code",
   "execution_count": 12,
   "metadata": {},
   "outputs": [
    {
     "data": {
      "text/plain": [
       "[]"
      ]
     },
     "execution_count": 12,
     "metadata": {},
     "output_type": "execute_result"
    }
   ],
   "source": [
    "list(builtin_layer_norm.buffers())"
   ]
  },
  {
   "cell_type": "code",
   "execution_count": null,
   "metadata": {},
   "outputs": [],
   "source": []
  },
  {
   "cell_type": "code",
   "execution_count": 13,
   "metadata": {},
   "outputs": [
    {
     "name": "stderr",
     "output_type": "stream",
     "text": [
      "Downloading: \"https://download.pytorch.org/models/convnext_tiny-983f1562.pth\" to /Users/citizen2/.cache/torch/hub/checkpoints/convnext_tiny-983f1562.pth\n",
      "100.0%\n"
     ]
    }
   ],
   "source": [
    "from torchvision.io import read_image\n",
    "from torchvision.models import convnext_tiny, ConvNeXt_Tiny_Weights\n",
    "\n",
    "\n",
    "# Step 1: Initialize model with the best available weights\n",
    "weights = ConvNeXt_Tiny_Weights.DEFAULT\n",
    "model = convnext_tiny(weights=weights)\n"
   ]
  },
  {
   "cell_type": "code",
   "execution_count": 26,
   "metadata": {},
   "outputs": [
    {
     "data": {
      "text/plain": [
       "ConvNeXt(\n",
       "  (features): Sequential(\n",
       "    (0): Conv2dNormActivation(\n",
       "      (0): Conv2d(3, 96, kernel_size=(4, 4), stride=(4, 4))\n",
       "      (1): LayerNorm2d((96,), eps=1e-06, elementwise_affine=True)\n",
       "    )\n",
       "    (1): Sequential(\n",
       "      (0): CNBlock(\n",
       "        (block): Sequential(\n",
       "          (0): Conv2d(96, 96, kernel_size=(7, 7), stride=(1, 1), padding=(3, 3), groups=96)\n",
       "          (1): Permute()\n",
       "          (2): LayerNorm((96,), eps=1e-06, elementwise_affine=True)\n",
       "          (3): Linear(in_features=96, out_features=384, bias=True)\n",
       "          (4): GELU(approximate='none')\n",
       "          (5): Linear(in_features=384, out_features=96, bias=True)\n",
       "          (6): Permute()\n",
       "        )\n",
       "        (stochastic_depth): StochasticDepth(p=0.0, mode=row)\n",
       "      )\n",
       "      (1): CNBlock(\n",
       "        (block): Sequential(\n",
       "          (0): Conv2d(96, 96, kernel_size=(7, 7), stride=(1, 1), padding=(3, 3), groups=96)\n",
       "          (1): Permute()\n",
       "          (2): LayerNorm((96,), eps=1e-06, elementwise_affine=True)\n",
       "          (3): Linear(in_features=96, out_features=384, bias=True)\n",
       "          (4): GELU(approximate='none')\n",
       "          (5): Linear(in_features=384, out_features=96, bias=True)\n",
       "          (6): Permute()\n",
       "        )\n",
       "        (stochastic_depth): StochasticDepth(p=0.0058823529411764705, mode=row)\n",
       "      )\n",
       "      (2): CNBlock(\n",
       "        (block): Sequential(\n",
       "          (0): Conv2d(96, 96, kernel_size=(7, 7), stride=(1, 1), padding=(3, 3), groups=96)\n",
       "          (1): Permute()\n",
       "          (2): LayerNorm((96,), eps=1e-06, elementwise_affine=True)\n",
       "          (3): Linear(in_features=96, out_features=384, bias=True)\n",
       "          (4): GELU(approximate='none')\n",
       "          (5): Linear(in_features=384, out_features=96, bias=True)\n",
       "          (6): Permute()\n",
       "        )\n",
       "        (stochastic_depth): StochasticDepth(p=0.011764705882352941, mode=row)\n",
       "      )\n",
       "    )\n",
       "    (2): Sequential(\n",
       "      (0): LayerNorm2d((96,), eps=1e-06, elementwise_affine=True)\n",
       "      (1): Conv2d(96, 192, kernel_size=(2, 2), stride=(2, 2))\n",
       "    )\n",
       "    (3): Sequential(\n",
       "      (0): CNBlock(\n",
       "        (block): Sequential(\n",
       "          (0): Conv2d(192, 192, kernel_size=(7, 7), stride=(1, 1), padding=(3, 3), groups=192)\n",
       "          (1): Permute()\n",
       "          (2): LayerNorm((192,), eps=1e-06, elementwise_affine=True)\n",
       "          (3): Linear(in_features=192, out_features=768, bias=True)\n",
       "          (4): GELU(approximate='none')\n",
       "          (5): Linear(in_features=768, out_features=192, bias=True)\n",
       "          (6): Permute()\n",
       "        )\n",
       "        (stochastic_depth): StochasticDepth(p=0.017647058823529415, mode=row)\n",
       "      )\n",
       "      (1): CNBlock(\n",
       "        (block): Sequential(\n",
       "          (0): Conv2d(192, 192, kernel_size=(7, 7), stride=(1, 1), padding=(3, 3), groups=192)\n",
       "          (1): Permute()\n",
       "          (2): LayerNorm((192,), eps=1e-06, elementwise_affine=True)\n",
       "          (3): Linear(in_features=192, out_features=768, bias=True)\n",
       "          (4): GELU(approximate='none')\n",
       "          (5): Linear(in_features=768, out_features=192, bias=True)\n",
       "          (6): Permute()\n",
       "        )\n",
       "        (stochastic_depth): StochasticDepth(p=0.023529411764705882, mode=row)\n",
       "      )\n",
       "      (2): CNBlock(\n",
       "        (block): Sequential(\n",
       "          (0): Conv2d(192, 192, kernel_size=(7, 7), stride=(1, 1), padding=(3, 3), groups=192)\n",
       "          (1): Permute()\n",
       "          (2): LayerNorm((192,), eps=1e-06, elementwise_affine=True)\n",
       "          (3): Linear(in_features=192, out_features=768, bias=True)\n",
       "          (4): GELU(approximate='none')\n",
       "          (5): Linear(in_features=768, out_features=192, bias=True)\n",
       "          (6): Permute()\n",
       "        )\n",
       "        (stochastic_depth): StochasticDepth(p=0.029411764705882353, mode=row)\n",
       "      )\n",
       "    )\n",
       "    (4): Sequential(\n",
       "      (0): LayerNorm2d((192,), eps=1e-06, elementwise_affine=True)\n",
       "      (1): Conv2d(192, 384, kernel_size=(2, 2), stride=(2, 2))\n",
       "    )\n",
       "    (5): Sequential(\n",
       "      (0): CNBlock(\n",
       "        (block): Sequential(\n",
       "          (0): Conv2d(384, 384, kernel_size=(7, 7), stride=(1, 1), padding=(3, 3), groups=384)\n",
       "          (1): Permute()\n",
       "          (2): LayerNorm((384,), eps=1e-06, elementwise_affine=True)\n",
       "          (3): Linear(in_features=384, out_features=1536, bias=True)\n",
       "          (4): GELU(approximate='none')\n",
       "          (5): Linear(in_features=1536, out_features=384, bias=True)\n",
       "          (6): Permute()\n",
       "        )\n",
       "        (stochastic_depth): StochasticDepth(p=0.03529411764705883, mode=row)\n",
       "      )\n",
       "      (1): CNBlock(\n",
       "        (block): Sequential(\n",
       "          (0): Conv2d(384, 384, kernel_size=(7, 7), stride=(1, 1), padding=(3, 3), groups=384)\n",
       "          (1): Permute()\n",
       "          (2): LayerNorm((384,), eps=1e-06, elementwise_affine=True)\n",
       "          (3): Linear(in_features=384, out_features=1536, bias=True)\n",
       "          (4): GELU(approximate='none')\n",
       "          (5): Linear(in_features=1536, out_features=384, bias=True)\n",
       "          (6): Permute()\n",
       "        )\n",
       "        (stochastic_depth): StochasticDepth(p=0.0411764705882353, mode=row)\n",
       "      )\n",
       "      (2): CNBlock(\n",
       "        (block): Sequential(\n",
       "          (0): Conv2d(384, 384, kernel_size=(7, 7), stride=(1, 1), padding=(3, 3), groups=384)\n",
       "          (1): Permute()\n",
       "          (2): LayerNorm((384,), eps=1e-06, elementwise_affine=True)\n",
       "          (3): Linear(in_features=384, out_features=1536, bias=True)\n",
       "          (4): GELU(approximate='none')\n",
       "          (5): Linear(in_features=1536, out_features=384, bias=True)\n",
       "          (6): Permute()\n",
       "        )\n",
       "        (stochastic_depth): StochasticDepth(p=0.047058823529411764, mode=row)\n",
       "      )\n",
       "      (3): CNBlock(\n",
       "        (block): Sequential(\n",
       "          (0): Conv2d(384, 384, kernel_size=(7, 7), stride=(1, 1), padding=(3, 3), groups=384)\n",
       "          (1): Permute()\n",
       "          (2): LayerNorm((384,), eps=1e-06, elementwise_affine=True)\n",
       "          (3): Linear(in_features=384, out_features=1536, bias=True)\n",
       "          (4): GELU(approximate='none')\n",
       "          (5): Linear(in_features=1536, out_features=384, bias=True)\n",
       "          (6): Permute()\n",
       "        )\n",
       "        (stochastic_depth): StochasticDepth(p=0.052941176470588235, mode=row)\n",
       "      )\n",
       "      (4): CNBlock(\n",
       "        (block): Sequential(\n",
       "          (0): Conv2d(384, 384, kernel_size=(7, 7), stride=(1, 1), padding=(3, 3), groups=384)\n",
       "          (1): Permute()\n",
       "          (2): LayerNorm((384,), eps=1e-06, elementwise_affine=True)\n",
       "          (3): Linear(in_features=384, out_features=1536, bias=True)\n",
       "          (4): GELU(approximate='none')\n",
       "          (5): Linear(in_features=1536, out_features=384, bias=True)\n",
       "          (6): Permute()\n",
       "        )\n",
       "        (stochastic_depth): StochasticDepth(p=0.058823529411764705, mode=row)\n",
       "      )\n",
       "      (5): CNBlock(\n",
       "        (block): Sequential(\n",
       "          (0): Conv2d(384, 384, kernel_size=(7, 7), stride=(1, 1), padding=(3, 3), groups=384)\n",
       "          (1): Permute()\n",
       "          (2): LayerNorm((384,), eps=1e-06, elementwise_affine=True)\n",
       "          (3): Linear(in_features=384, out_features=1536, bias=True)\n",
       "          (4): GELU(approximate='none')\n",
       "          (5): Linear(in_features=1536, out_features=384, bias=True)\n",
       "          (6): Permute()\n",
       "        )\n",
       "        (stochastic_depth): StochasticDepth(p=0.06470588235294118, mode=row)\n",
       "      )\n",
       "      (6): CNBlock(\n",
       "        (block): Sequential(\n",
       "          (0): Conv2d(384, 384, kernel_size=(7, 7), stride=(1, 1), padding=(3, 3), groups=384)\n",
       "          (1): Permute()\n",
       "          (2): LayerNorm((384,), eps=1e-06, elementwise_affine=True)\n",
       "          (3): Linear(in_features=384, out_features=1536, bias=True)\n",
       "          (4): GELU(approximate='none')\n",
       "          (5): Linear(in_features=1536, out_features=384, bias=True)\n",
       "          (6): Permute()\n",
       "        )\n",
       "        (stochastic_depth): StochasticDepth(p=0.07058823529411766, mode=row)\n",
       "      )\n",
       "      (7): CNBlock(\n",
       "        (block): Sequential(\n",
       "          (0): Conv2d(384, 384, kernel_size=(7, 7), stride=(1, 1), padding=(3, 3), groups=384)\n",
       "          (1): Permute()\n",
       "          (2): LayerNorm((384,), eps=1e-06, elementwise_affine=True)\n",
       "          (3): Linear(in_features=384, out_features=1536, bias=True)\n",
       "          (4): GELU(approximate='none')\n",
       "          (5): Linear(in_features=1536, out_features=384, bias=True)\n",
       "          (6): Permute()\n",
       "        )\n",
       "        (stochastic_depth): StochasticDepth(p=0.07647058823529412, mode=row)\n",
       "      )\n",
       "      (8): CNBlock(\n",
       "        (block): Sequential(\n",
       "          (0): Conv2d(384, 384, kernel_size=(7, 7), stride=(1, 1), padding=(3, 3), groups=384)\n",
       "          (1): Permute()\n",
       "          (2): LayerNorm((384,), eps=1e-06, elementwise_affine=True)\n",
       "          (3): Linear(in_features=384, out_features=1536, bias=True)\n",
       "          (4): GELU(approximate='none')\n",
       "          (5): Linear(in_features=1536, out_features=384, bias=True)\n",
       "          (6): Permute()\n",
       "        )\n",
       "        (stochastic_depth): StochasticDepth(p=0.0823529411764706, mode=row)\n",
       "      )\n",
       "    )\n",
       "    (6): Sequential(\n",
       "      (0): LayerNorm2d((384,), eps=1e-06, elementwise_affine=True)\n",
       "      (1): Conv2d(384, 768, kernel_size=(2, 2), stride=(2, 2))\n",
       "    )\n",
       "    (7): Sequential(\n",
       "      (0): CNBlock(\n",
       "        (block): Sequential(\n",
       "          (0): Conv2d(768, 768, kernel_size=(7, 7), stride=(1, 1), padding=(3, 3), groups=768)\n",
       "          (1): Permute()\n",
       "          (2): LayerNorm((768,), eps=1e-06, elementwise_affine=True)\n",
       "          (3): Linear(in_features=768, out_features=3072, bias=True)\n",
       "          (4): GELU(approximate='none')\n",
       "          (5): Linear(in_features=3072, out_features=768, bias=True)\n",
       "          (6): Permute()\n",
       "        )\n",
       "        (stochastic_depth): StochasticDepth(p=0.08823529411764706, mode=row)\n",
       "      )\n",
       "      (1): CNBlock(\n",
       "        (block): Sequential(\n",
       "          (0): Conv2d(768, 768, kernel_size=(7, 7), stride=(1, 1), padding=(3, 3), groups=768)\n",
       "          (1): Permute()\n",
       "          (2): LayerNorm((768,), eps=1e-06, elementwise_affine=True)\n",
       "          (3): Linear(in_features=768, out_features=3072, bias=True)\n",
       "          (4): GELU(approximate='none')\n",
       "          (5): Linear(in_features=3072, out_features=768, bias=True)\n",
       "          (6): Permute()\n",
       "        )\n",
       "        (stochastic_depth): StochasticDepth(p=0.09411764705882353, mode=row)\n",
       "      )\n",
       "      (2): CNBlock(\n",
       "        (block): Sequential(\n",
       "          (0): Conv2d(768, 768, kernel_size=(7, 7), stride=(1, 1), padding=(3, 3), groups=768)\n",
       "          (1): Permute()\n",
       "          (2): LayerNorm((768,), eps=1e-06, elementwise_affine=True)\n",
       "          (3): Linear(in_features=768, out_features=3072, bias=True)\n",
       "          (4): GELU(approximate='none')\n",
       "          (5): Linear(in_features=3072, out_features=768, bias=True)\n",
       "          (6): Permute()\n",
       "        )\n",
       "        (stochastic_depth): StochasticDepth(p=0.1, mode=row)\n",
       "      )\n",
       "    )\n",
       "  )\n",
       "  (avgpool): AdaptiveAvgPool2d(output_size=1)\n",
       "  (classifier): Sequential(\n",
       "    (0): LayerNorm2d((768,), eps=1e-06, elementwise_affine=True)\n",
       "    (1): Flatten(start_dim=1, end_dim=-1)\n",
       "    (2): Linear(in_features=768, out_features=1000, bias=True)\n",
       "  )\n",
       ")"
      ]
     },
     "execution_count": 26,
     "metadata": {},
     "output_type": "execute_result"
    }
   ],
   "source": [
    "model"
   ]
  },
  {
   "cell_type": "code",
   "execution_count": 24,
   "metadata": {},
   "outputs": [
    {
     "data": {
      "text/plain": [
       "[]"
      ]
     },
     "execution_count": 24,
     "metadata": {},
     "output_type": "execute_result"
    }
   ],
   "source": [
    "list(model.features[0][1].named_buffers())"
   ]
  },
  {
   "cell_type": "code",
   "execution_count": 25,
   "metadata": {},
   "outputs": [
    {
     "data": {
      "text/plain": [
       "[('weight',\n",
       "  Parameter containing:\n",
       "  tensor([     0.0175,      0.1579,      0.3161,      0.0979,      0.4666,\n",
       "               0.0013,      0.2442,      0.1314,      0.1714,      0.2489,\n",
       "               0.3636,     -0.0003,      0.1290,      0.1783,      0.2120,\n",
       "               0.0738,      0.1426,      0.0313,      0.0967,      0.4619,\n",
       "               0.4981,      0.0504,      0.1325,      0.2337,      0.0017,\n",
       "               0.3482,      0.1150,      0.0483,      0.0127,      0.1527,\n",
       "               0.0127,      0.0217,      0.0262,     -0.0001,      0.1772,\n",
       "               0.1443,      0.3130,      0.1146,      0.0276,      0.1730,\n",
       "               0.1023,      0.2916,      0.0211,     -0.0002,      0.0561,\n",
       "               0.0005,      0.0001,     -0.0002,      0.0643,      0.0477,\n",
       "               0.3716,      0.0588,      0.0961,      0.0003,      0.3510,\n",
       "               0.1468,      0.0544,      0.0454,     -0.0003,      0.0244,\n",
       "               0.0010,      0.2185,      0.0298,      0.2375,      0.1056,\n",
       "              -0.0006,      0.1836,      0.1207,      0.0388,      0.1483,\n",
       "               0.0918,      0.0672,      0.4827,      0.1107,      0.1914,\n",
       "               0.0186,      0.2146,      0.0260,     -0.0127,      0.1561,\n",
       "               0.0640,      0.1125,      0.0657,      0.2321,     -0.0000,\n",
       "               0.1099,      0.0396,      0.0141,      0.1367,      0.0612,\n",
       "               0.3661,      0.4273,      0.2218,     -0.0001,      0.1980,\n",
       "               0.1961], requires_grad=True)),\n",
       " ('bias',\n",
       "  Parameter containing:\n",
       "  tensor([     0.0005,     -0.0074,     -0.0069,      0.0014,     -0.0012,\n",
       "               0.0013,     -0.4291,      0.0047,      0.0397,     -0.0184,\n",
       "              -0.0018,      0.0001,     -0.0006,      0.0013,     -0.0007,\n",
       "               0.0147,     -0.0007,      0.0066,     -0.0531,      0.8901,\n",
       "              -0.0011,     -0.0024,      0.0846,      0.0178,     -0.0006,\n",
       "              -0.0062,     -0.2736,      0.0634,      0.0024,      0.0021,\n",
       "              -0.0010,     -0.0016,      0.0016,      0.0002,     -0.0024,\n",
       "               0.0014,     -0.0096,     -0.0011,     -0.0008,     -0.0025,\n",
       "              -0.0491,     -0.0039,      0.0014,     -0.0001,      0.0024,\n",
       "              -0.0014,     -0.0019,      0.0226,      0.0035,      0.0076,\n",
       "               0.0015,      0.1924,      0.0018,      0.0001,     -0.0303,\n",
       "               0.0045,      0.0025,      0.0049,     -0.0691,      0.0006,\n",
       "               0.0004,      0.0081,      0.0012,     -0.0068,     -0.0005,\n",
       "              -0.0002,      0.3801,      0.0081,      0.0029,      0.0020,\n",
       "              -0.0015,     -0.0013,      0.0071,      0.0254,      0.0032,\n",
       "               0.0008,      0.0117,     -0.0010,     -0.0007,      0.0002,\n",
       "              -0.0140,      0.0266,      0.0044,      0.0037,      0.0000,\n",
       "               0.0029,     -0.1234,     -0.0090,     -0.2657,      0.0022,\n",
       "              -0.0077,     -0.0001,     -0.0039,     -0.0478,      0.0042,\n",
       "              -0.0001], requires_grad=True))]"
      ]
     },
     "execution_count": 25,
     "metadata": {},
     "output_type": "execute_result"
    }
   ],
   "source": [
    "list(model.features[0][1].named_parameters())"
   ]
  },
  {
   "cell_type": "code",
   "execution_count": 29,
   "metadata": {},
   "outputs": [
    {
     "name": "stdout",
     "output_type": "stream",
     "text": [
      "features.0.0.weight\n",
      "Parameter containing:\n",
      "tensor([[[[    -0.1019,     -0.1258,     -0.0777,     -0.0484],\n",
      "          [     0.0491,     -0.0058,     -0.0272,      0.0074],\n",
      "          [     0.0055,     -0.0166,     -0.0004,     -0.0102],\n",
      "          [     0.0575,      0.0633,      0.1328,      0.1206]],\n",
      "\n",
      "         [[    -0.0151,     -0.0420,     -0.0025,      0.0220],\n",
      "          [     0.0817,      0.0309,      0.0183,      0.0206],\n",
      "          [    -0.0447,     -0.0466,     -0.0218,     -0.0682],\n",
      "          [    -0.0263,     -0.0124,      0.0550,      0.0047]],\n",
      "\n",
      "         [[     0.0467,      0.0268,      0.0762,      0.0656],\n",
      "          [     0.0819,      0.0573,      0.0403,      0.0252],\n",
      "          [    -0.0495,     -0.0425,     -0.0063,     -0.0838],\n",
      "          [    -0.0804,     -0.0695,      0.0060,     -0.0555]]],\n",
      "\n",
      "\n",
      "        [[[     0.0233,      0.0212,      0.0454,     -0.0047],\n",
      "          [     0.0011,     -0.0746,      0.0673,      0.0662],\n",
      "          [    -0.0066,     -0.0007,      0.0017,     -0.0160],\n",
      "          [    -0.0621,      0.0178,      0.0144,     -0.0933]],\n",
      "\n",
      "         [[     0.0088,     -0.0343,      0.0336,     -0.0539],\n",
      "          [    -0.0033,     -0.1128,      0.0895,      0.0871],\n",
      "          [    -0.0001,     -0.0115,      0.0107,     -0.0265],\n",
      "          [    -0.0557,      0.0510,      0.0866,     -0.0972]],\n",
      "\n",
      "         [[    -0.0082,     -0.0285,     -0.0192,     -0.0486],\n",
      "          [     0.0246,     -0.0547,      0.0267,      0.0200],\n",
      "          [     0.0212,     -0.0075,      0.0007,     -0.0129],\n",
      "          [     0.0121,      0.0486,      0.0651,     -0.0049]]],\n",
      "\n",
      "\n",
      "        [[[     0.0254,     -0.0897,      0.0701,     -0.0296],\n",
      "          [     0.0137,      0.0373,      0.0829,     -0.0254],\n",
      "          [    -0.0096,     -0.0879,      0.0134,     -0.0185],\n",
      "          [    -0.0276,      0.0242,     -0.0434,      0.0671]],\n",
      "\n",
      "         [[     0.0248,     -0.1030,      0.0644,     -0.0132],\n",
      "          [    -0.0025,     -0.0024,      0.0519,     -0.0929],\n",
      "          [     0.0125,     -0.0214,      0.0389,     -0.0169],\n",
      "          [    -0.0139,      0.1074,     -0.1113,      0.0504]],\n",
      "\n",
      "         [[     0.0300,     -0.0406,      0.0367,      0.0310],\n",
      "          [    -0.0627,     -0.0076,     -0.0019,      0.0066],\n",
      "          [     0.0027,      0.0511,     -0.0088,      0.0328],\n",
      "          [    -0.0321,      0.0644,     -0.0570,     -0.0123]]],\n",
      "\n",
      "\n",
      "        ...,\n",
      "\n",
      "\n",
      "        [[[     0.0951,      0.0293,     -0.0248,      0.1451],\n",
      "          [     0.0445,     -0.0129,     -0.0561,      0.0090],\n",
      "          [    -0.1024,      0.0090,      0.0028,     -0.0519],\n",
      "          [    -0.0909,     -0.0006,      0.0217,      0.0095]],\n",
      "\n",
      "         [[    -0.0701,     -0.1595,     -0.2152,      0.0107],\n",
      "          [    -0.0226,     -0.0639,     -0.0709,     -0.0323],\n",
      "          [    -0.0807,      0.1111,      0.1059,     -0.0177],\n",
      "          [     0.0229,      0.1759,      0.1677,      0.0630]],\n",
      "\n",
      "         [[     0.0936,      0.0274,      0.0150,      0.1416],\n",
      "          [     0.0752,      0.0635,      0.0311,      0.0266],\n",
      "          [    -0.0512,      0.0924,      0.0705,     -0.1142],\n",
      "          [    -0.1058,     -0.0423,     -0.0695,     -0.1867]]],\n",
      "\n",
      "\n",
      "        [[[    -0.0336,      0.0513,      0.0152,     -0.0418],\n",
      "          [    -0.0037,     -0.0276,      0.0009,      0.0667],\n",
      "          [     0.0250,     -0.0239,     -0.0636,      0.0446],\n",
      "          [    -0.0747,      0.0580,     -0.0090,      0.0138]],\n",
      "\n",
      "         [[    -0.0298,      0.0708,      0.0030,     -0.1086],\n",
      "          [     0.0327,     -0.0403,     -0.0216,      0.0633],\n",
      "          [     0.1033,     -0.0151,     -0.1328,      0.0163],\n",
      "          [    -0.0556,      0.1081,     -0.0149,     -0.0033]],\n",
      "\n",
      "         [[    -0.0377,      0.0247,      0.0291,     -0.0058],\n",
      "          [    -0.0167,     -0.0385,      0.0154,      0.0663],\n",
      "          [     0.0198,     -0.0161,     -0.0447,      0.0307],\n",
      "          [    -0.0390,      0.0419,     -0.0017,      0.0044]]],\n",
      "\n",
      "\n",
      "        [[[    -0.0177,     -0.0385,      0.0338,      0.0139],\n",
      "          [    -0.0376,     -0.0981,      0.0161,      0.1141],\n",
      "          [     0.0424,     -0.1070,     -0.0589,     -0.0652],\n",
      "          [     0.0998,      0.0496,      0.0196,      0.0367]],\n",
      "\n",
      "         [[    -0.0054,      0.0905,     -0.0065,      0.0048],\n",
      "          [     0.0221,      0.0076,      0.0193,      0.0110],\n",
      "          [     0.0062,      0.0014,      0.0362,     -0.0859],\n",
      "          [    -0.0427,     -0.0532,     -0.0552,      0.0202]],\n",
      "\n",
      "         [[    -0.0100,      0.0059,     -0.0716,     -0.0197],\n",
      "          [    -0.0234,      0.0613,     -0.0188,     -0.0328],\n",
      "          [    -0.0216,      0.1068,      0.0819,      0.0185],\n",
      "          [    -0.0752,     -0.0085,      0.0285,      0.0128]]]],\n",
      "       requires_grad=True)\n"
     ]
    }
   ],
   "source": [
    "for name, p in model.named_parameters():\n",
    "    print(name)\n",
    "    print(p)\n",
    "    \n",
    "    break"
   ]
  },
  {
   "cell_type": "code",
   "execution_count": 31,
   "metadata": {},
   "outputs": [
    {
     "data": {
      "text/plain": [
       "[]"
      ]
     },
     "execution_count": 31,
     "metadata": {},
     "output_type": "execute_result"
    }
   ],
   "source": [
    "list(model.named_buffers())"
   ]
  },
  {
   "cell_type": "code",
   "execution_count": 33,
   "metadata": {},
   "outputs": [
    {
     "data": {
      "text/plain": [
       "OrderedDict([('weight',\n",
       "              tensor([1., 1., 1., 1., 1., 1., 1., 1., 1., 1., 1., 1., 1., 1., 1., 1., 1., 1.,\n",
       "                      1., 1., 1., 1., 1., 1., 1., 1., 1., 1., 1., 1., 1., 1., 1., 1., 1., 1.,\n",
       "                      1., 1., 1., 1., 1., 1., 1., 1., 1., 1., 1., 1., 1., 1., 1., 1., 1., 1.,\n",
       "                      1., 1., 1., 1., 1., 1., 1., 1., 1., 1., 1., 1., 1., 1., 1., 1., 1., 1.,\n",
       "                      1., 1., 1., 1., 1., 1., 1., 1., 1., 1., 1., 1., 1., 1., 1., 1., 1., 1.,\n",
       "                      1., 1., 1., 1., 1., 1., 1., 1., 1., 1., 1., 1., 1., 1., 1., 1., 1., 1.,\n",
       "                      1., 1., 1., 1., 1., 1., 1., 1., 1., 1., 1., 1., 1., 1., 1., 1., 1., 1.,\n",
       "                      1., 1.])),\n",
       "             ('bias',\n",
       "              tensor([0., 0., 0., 0., 0., 0., 0., 0., 0., 0., 0., 0., 0., 0., 0., 0., 0., 0., 0., 0., 0., 0., 0., 0.,\n",
       "                      0., 0., 0., 0., 0., 0., 0., 0., 0., 0., 0., 0., 0., 0., 0., 0., 0., 0., 0., 0., 0., 0., 0., 0.,\n",
       "                      0., 0., 0., 0., 0., 0., 0., 0., 0., 0., 0., 0., 0., 0., 0., 0., 0., 0., 0., 0., 0., 0., 0., 0.,\n",
       "                      0., 0., 0., 0., 0., 0., 0., 0., 0., 0., 0., 0., 0., 0., 0., 0., 0., 0., 0., 0., 0., 0., 0., 0.,\n",
       "                      0., 0., 0., 0., 0., 0., 0., 0., 0., 0., 0., 0., 0., 0., 0., 0., 0., 0., 0., 0., 0., 0., 0., 0.,\n",
       "                      0., 0., 0., 0., 0., 0., 0., 0.]))])"
      ]
     },
     "execution_count": 33,
     "metadata": {},
     "output_type": "execute_result"
    }
   ],
   "source": [
    "builtin_layer_norm.state_dict()"
   ]
  },
  {
   "cell_type": "code",
   "execution_count": 36,
   "metadata": {},
   "outputs": [
    {
     "data": {
      "text/plain": [
       "OrderedDict([('weight', tensor([1., 1., 1., 1., 1.])),\n",
       "             ('bias', tensor([0., 0., 0., 0., 0.])),\n",
       "             ('running_mean', tensor([0., 0., 0., 0., 0.])),\n",
       "             ('running_var', tensor([1., 1., 1., 1., 1.])),\n",
       "             ('num_batches_tracked', tensor(0))])"
      ]
     },
     "execution_count": 36,
     "metadata": {},
     "output_type": "execute_result"
    }
   ],
   "source": [
    "torch.nn.BatchNorm1d(5).state_dict()"
   ]
  },
  {
   "cell_type": "code",
   "execution_count": 38,
   "metadata": {},
   "outputs": [
    {
     "data": {
      "text/plain": [
       "odict_keys(['features.0.0.weight', 'features.0.0.bias', 'features.0.1.weight', 'features.0.1.bias', 'features.1.0.layer_scale', 'features.1.0.block.0.weight', 'features.1.0.block.0.bias', 'features.1.0.block.2.weight', 'features.1.0.block.2.bias', 'features.1.0.block.3.weight', 'features.1.0.block.3.bias', 'features.1.0.block.5.weight', 'features.1.0.block.5.bias', 'features.1.1.layer_scale', 'features.1.1.block.0.weight', 'features.1.1.block.0.bias', 'features.1.1.block.2.weight', 'features.1.1.block.2.bias', 'features.1.1.block.3.weight', 'features.1.1.block.3.bias', 'features.1.1.block.5.weight', 'features.1.1.block.5.bias', 'features.1.2.layer_scale', 'features.1.2.block.0.weight', 'features.1.2.block.0.bias', 'features.1.2.block.2.weight', 'features.1.2.block.2.bias', 'features.1.2.block.3.weight', 'features.1.2.block.3.bias', 'features.1.2.block.5.weight', 'features.1.2.block.5.bias', 'features.2.0.weight', 'features.2.0.bias', 'features.2.1.weight', 'features.2.1.bias', 'features.3.0.layer_scale', 'features.3.0.block.0.weight', 'features.3.0.block.0.bias', 'features.3.0.block.2.weight', 'features.3.0.block.2.bias', 'features.3.0.block.3.weight', 'features.3.0.block.3.bias', 'features.3.0.block.5.weight', 'features.3.0.block.5.bias', 'features.3.1.layer_scale', 'features.3.1.block.0.weight', 'features.3.1.block.0.bias', 'features.3.1.block.2.weight', 'features.3.1.block.2.bias', 'features.3.1.block.3.weight', 'features.3.1.block.3.bias', 'features.3.1.block.5.weight', 'features.3.1.block.5.bias', 'features.3.2.layer_scale', 'features.3.2.block.0.weight', 'features.3.2.block.0.bias', 'features.3.2.block.2.weight', 'features.3.2.block.2.bias', 'features.3.2.block.3.weight', 'features.3.2.block.3.bias', 'features.3.2.block.5.weight', 'features.3.2.block.5.bias', 'features.4.0.weight', 'features.4.0.bias', 'features.4.1.weight', 'features.4.1.bias', 'features.5.0.layer_scale', 'features.5.0.block.0.weight', 'features.5.0.block.0.bias', 'features.5.0.block.2.weight', 'features.5.0.block.2.bias', 'features.5.0.block.3.weight', 'features.5.0.block.3.bias', 'features.5.0.block.5.weight', 'features.5.0.block.5.bias', 'features.5.1.layer_scale', 'features.5.1.block.0.weight', 'features.5.1.block.0.bias', 'features.5.1.block.2.weight', 'features.5.1.block.2.bias', 'features.5.1.block.3.weight', 'features.5.1.block.3.bias', 'features.5.1.block.5.weight', 'features.5.1.block.5.bias', 'features.5.2.layer_scale', 'features.5.2.block.0.weight', 'features.5.2.block.0.bias', 'features.5.2.block.2.weight', 'features.5.2.block.2.bias', 'features.5.2.block.3.weight', 'features.5.2.block.3.bias', 'features.5.2.block.5.weight', 'features.5.2.block.5.bias', 'features.5.3.layer_scale', 'features.5.3.block.0.weight', 'features.5.3.block.0.bias', 'features.5.3.block.2.weight', 'features.5.3.block.2.bias', 'features.5.3.block.3.weight', 'features.5.3.block.3.bias', 'features.5.3.block.5.weight', 'features.5.3.block.5.bias', 'features.5.4.layer_scale', 'features.5.4.block.0.weight', 'features.5.4.block.0.bias', 'features.5.4.block.2.weight', 'features.5.4.block.2.bias', 'features.5.4.block.3.weight', 'features.5.4.block.3.bias', 'features.5.4.block.5.weight', 'features.5.4.block.5.bias', 'features.5.5.layer_scale', 'features.5.5.block.0.weight', 'features.5.5.block.0.bias', 'features.5.5.block.2.weight', 'features.5.5.block.2.bias', 'features.5.5.block.3.weight', 'features.5.5.block.3.bias', 'features.5.5.block.5.weight', 'features.5.5.block.5.bias', 'features.5.6.layer_scale', 'features.5.6.block.0.weight', 'features.5.6.block.0.bias', 'features.5.6.block.2.weight', 'features.5.6.block.2.bias', 'features.5.6.block.3.weight', 'features.5.6.block.3.bias', 'features.5.6.block.5.weight', 'features.5.6.block.5.bias', 'features.5.7.layer_scale', 'features.5.7.block.0.weight', 'features.5.7.block.0.bias', 'features.5.7.block.2.weight', 'features.5.7.block.2.bias', 'features.5.7.block.3.weight', 'features.5.7.block.3.bias', 'features.5.7.block.5.weight', 'features.5.7.block.5.bias', 'features.5.8.layer_scale', 'features.5.8.block.0.weight', 'features.5.8.block.0.bias', 'features.5.8.block.2.weight', 'features.5.8.block.2.bias', 'features.5.8.block.3.weight', 'features.5.8.block.3.bias', 'features.5.8.block.5.weight', 'features.5.8.block.5.bias', 'features.6.0.weight', 'features.6.0.bias', 'features.6.1.weight', 'features.6.1.bias', 'features.7.0.layer_scale', 'features.7.0.block.0.weight', 'features.7.0.block.0.bias', 'features.7.0.block.2.weight', 'features.7.0.block.2.bias', 'features.7.0.block.3.weight', 'features.7.0.block.3.bias', 'features.7.0.block.5.weight', 'features.7.0.block.5.bias', 'features.7.1.layer_scale', 'features.7.1.block.0.weight', 'features.7.1.block.0.bias', 'features.7.1.block.2.weight', 'features.7.1.block.2.bias', 'features.7.1.block.3.weight', 'features.7.1.block.3.bias', 'features.7.1.block.5.weight', 'features.7.1.block.5.bias', 'features.7.2.layer_scale', 'features.7.2.block.0.weight', 'features.7.2.block.0.bias', 'features.7.2.block.2.weight', 'features.7.2.block.2.bias', 'features.7.2.block.3.weight', 'features.7.2.block.3.bias', 'features.7.2.block.5.weight', 'features.7.2.block.5.bias', 'classifier.0.weight', 'classifier.0.bias', 'classifier.2.weight', 'classifier.2.bias'])"
      ]
     },
     "execution_count": 38,
     "metadata": {},
     "output_type": "execute_result"
    }
   ],
   "source": [
    "model.state_dict().keys()"
   ]
  },
  {
   "cell_type": "code",
   "execution_count": 39,
   "metadata": {},
   "outputs": [
    {
     "data": {
      "text/plain": [
       "ConvNeXt(\n",
       "  (features): Sequential(\n",
       "    (0): Conv2dNormActivation(\n",
       "      (0): Conv2d(3, 96, kernel_size=(4, 4), stride=(4, 4))\n",
       "      (1): LayerNorm2d((96,), eps=1e-06, elementwise_affine=True)\n",
       "    )\n",
       "    (1): Sequential(\n",
       "      (0): CNBlock(\n",
       "        (block): Sequential(\n",
       "          (0): Conv2d(96, 96, kernel_size=(7, 7), stride=(1, 1), padding=(3, 3), groups=96)\n",
       "          (1): Permute()\n",
       "          (2): LayerNorm((96,), eps=1e-06, elementwise_affine=True)\n",
       "          (3): Linear(in_features=96, out_features=384, bias=True)\n",
       "          (4): GELU(approximate='none')\n",
       "          (5): Linear(in_features=384, out_features=96, bias=True)\n",
       "          (6): Permute()\n",
       "        )\n",
       "        (stochastic_depth): StochasticDepth(p=0.0, mode=row)\n",
       "      )\n",
       "      (1): CNBlock(\n",
       "        (block): Sequential(\n",
       "          (0): Conv2d(96, 96, kernel_size=(7, 7), stride=(1, 1), padding=(3, 3), groups=96)\n",
       "          (1): Permute()\n",
       "          (2): LayerNorm((96,), eps=1e-06, elementwise_affine=True)\n",
       "          (3): Linear(in_features=96, out_features=384, bias=True)\n",
       "          (4): GELU(approximate='none')\n",
       "          (5): Linear(in_features=384, out_features=96, bias=True)\n",
       "          (6): Permute()\n",
       "        )\n",
       "        (stochastic_depth): StochasticDepth(p=0.0058823529411764705, mode=row)\n",
       "      )\n",
       "      (2): CNBlock(\n",
       "        (block): Sequential(\n",
       "          (0): Conv2d(96, 96, kernel_size=(7, 7), stride=(1, 1), padding=(3, 3), groups=96)\n",
       "          (1): Permute()\n",
       "          (2): LayerNorm((96,), eps=1e-06, elementwise_affine=True)\n",
       "          (3): Linear(in_features=96, out_features=384, bias=True)\n",
       "          (4): GELU(approximate='none')\n",
       "          (5): Linear(in_features=384, out_features=96, bias=True)\n",
       "          (6): Permute()\n",
       "        )\n",
       "        (stochastic_depth): StochasticDepth(p=0.011764705882352941, mode=row)\n",
       "      )\n",
       "    )\n",
       "    (2): Sequential(\n",
       "      (0): LayerNorm2d((96,), eps=1e-06, elementwise_affine=True)\n",
       "      (1): Conv2d(96, 192, kernel_size=(2, 2), stride=(2, 2))\n",
       "    )\n",
       "    (3): Sequential(\n",
       "      (0): CNBlock(\n",
       "        (block): Sequential(\n",
       "          (0): Conv2d(192, 192, kernel_size=(7, 7), stride=(1, 1), padding=(3, 3), groups=192)\n",
       "          (1): Permute()\n",
       "          (2): LayerNorm((192,), eps=1e-06, elementwise_affine=True)\n",
       "          (3): Linear(in_features=192, out_features=768, bias=True)\n",
       "          (4): GELU(approximate='none')\n",
       "          (5): Linear(in_features=768, out_features=192, bias=True)\n",
       "          (6): Permute()\n",
       "        )\n",
       "        (stochastic_depth): StochasticDepth(p=0.017647058823529415, mode=row)\n",
       "      )\n",
       "      (1): CNBlock(\n",
       "        (block): Sequential(\n",
       "          (0): Conv2d(192, 192, kernel_size=(7, 7), stride=(1, 1), padding=(3, 3), groups=192)\n",
       "          (1): Permute()\n",
       "          (2): LayerNorm((192,), eps=1e-06, elementwise_affine=True)\n",
       "          (3): Linear(in_features=192, out_features=768, bias=True)\n",
       "          (4): GELU(approximate='none')\n",
       "          (5): Linear(in_features=768, out_features=192, bias=True)\n",
       "          (6): Permute()\n",
       "        )\n",
       "        (stochastic_depth): StochasticDepth(p=0.023529411764705882, mode=row)\n",
       "      )\n",
       "      (2): CNBlock(\n",
       "        (block): Sequential(\n",
       "          (0): Conv2d(192, 192, kernel_size=(7, 7), stride=(1, 1), padding=(3, 3), groups=192)\n",
       "          (1): Permute()\n",
       "          (2): LayerNorm((192,), eps=1e-06, elementwise_affine=True)\n",
       "          (3): Linear(in_features=192, out_features=768, bias=True)\n",
       "          (4): GELU(approximate='none')\n",
       "          (5): Linear(in_features=768, out_features=192, bias=True)\n",
       "          (6): Permute()\n",
       "        )\n",
       "        (stochastic_depth): StochasticDepth(p=0.029411764705882353, mode=row)\n",
       "      )\n",
       "    )\n",
       "    (4): Sequential(\n",
       "      (0): LayerNorm2d((192,), eps=1e-06, elementwise_affine=True)\n",
       "      (1): Conv2d(192, 384, kernel_size=(2, 2), stride=(2, 2))\n",
       "    )\n",
       "    (5): Sequential(\n",
       "      (0): CNBlock(\n",
       "        (block): Sequential(\n",
       "          (0): Conv2d(384, 384, kernel_size=(7, 7), stride=(1, 1), padding=(3, 3), groups=384)\n",
       "          (1): Permute()\n",
       "          (2): LayerNorm((384,), eps=1e-06, elementwise_affine=True)\n",
       "          (3): Linear(in_features=384, out_features=1536, bias=True)\n",
       "          (4): GELU(approximate='none')\n",
       "          (5): Linear(in_features=1536, out_features=384, bias=True)\n",
       "          (6): Permute()\n",
       "        )\n",
       "        (stochastic_depth): StochasticDepth(p=0.03529411764705883, mode=row)\n",
       "      )\n",
       "      (1): CNBlock(\n",
       "        (block): Sequential(\n",
       "          (0): Conv2d(384, 384, kernel_size=(7, 7), stride=(1, 1), padding=(3, 3), groups=384)\n",
       "          (1): Permute()\n",
       "          (2): LayerNorm((384,), eps=1e-06, elementwise_affine=True)\n",
       "          (3): Linear(in_features=384, out_features=1536, bias=True)\n",
       "          (4): GELU(approximate='none')\n",
       "          (5): Linear(in_features=1536, out_features=384, bias=True)\n",
       "          (6): Permute()\n",
       "        )\n",
       "        (stochastic_depth): StochasticDepth(p=0.0411764705882353, mode=row)\n",
       "      )\n",
       "      (2): CNBlock(\n",
       "        (block): Sequential(\n",
       "          (0): Conv2d(384, 384, kernel_size=(7, 7), stride=(1, 1), padding=(3, 3), groups=384)\n",
       "          (1): Permute()\n",
       "          (2): LayerNorm((384,), eps=1e-06, elementwise_affine=True)\n",
       "          (3): Linear(in_features=384, out_features=1536, bias=True)\n",
       "          (4): GELU(approximate='none')\n",
       "          (5): Linear(in_features=1536, out_features=384, bias=True)\n",
       "          (6): Permute()\n",
       "        )\n",
       "        (stochastic_depth): StochasticDepth(p=0.047058823529411764, mode=row)\n",
       "      )\n",
       "      (3): CNBlock(\n",
       "        (block): Sequential(\n",
       "          (0): Conv2d(384, 384, kernel_size=(7, 7), stride=(1, 1), padding=(3, 3), groups=384)\n",
       "          (1): Permute()\n",
       "          (2): LayerNorm((384,), eps=1e-06, elementwise_affine=True)\n",
       "          (3): Linear(in_features=384, out_features=1536, bias=True)\n",
       "          (4): GELU(approximate='none')\n",
       "          (5): Linear(in_features=1536, out_features=384, bias=True)\n",
       "          (6): Permute()\n",
       "        )\n",
       "        (stochastic_depth): StochasticDepth(p=0.052941176470588235, mode=row)\n",
       "      )\n",
       "      (4): CNBlock(\n",
       "        (block): Sequential(\n",
       "          (0): Conv2d(384, 384, kernel_size=(7, 7), stride=(1, 1), padding=(3, 3), groups=384)\n",
       "          (1): Permute()\n",
       "          (2): LayerNorm((384,), eps=1e-06, elementwise_affine=True)\n",
       "          (3): Linear(in_features=384, out_features=1536, bias=True)\n",
       "          (4): GELU(approximate='none')\n",
       "          (5): Linear(in_features=1536, out_features=384, bias=True)\n",
       "          (6): Permute()\n",
       "        )\n",
       "        (stochastic_depth): StochasticDepth(p=0.058823529411764705, mode=row)\n",
       "      )\n",
       "      (5): CNBlock(\n",
       "        (block): Sequential(\n",
       "          (0): Conv2d(384, 384, kernel_size=(7, 7), stride=(1, 1), padding=(3, 3), groups=384)\n",
       "          (1): Permute()\n",
       "          (2): LayerNorm((384,), eps=1e-06, elementwise_affine=True)\n",
       "          (3): Linear(in_features=384, out_features=1536, bias=True)\n",
       "          (4): GELU(approximate='none')\n",
       "          (5): Linear(in_features=1536, out_features=384, bias=True)\n",
       "          (6): Permute()\n",
       "        )\n",
       "        (stochastic_depth): StochasticDepth(p=0.06470588235294118, mode=row)\n",
       "      )\n",
       "      (6): CNBlock(\n",
       "        (block): Sequential(\n",
       "          (0): Conv2d(384, 384, kernel_size=(7, 7), stride=(1, 1), padding=(3, 3), groups=384)\n",
       "          (1): Permute()\n",
       "          (2): LayerNorm((384,), eps=1e-06, elementwise_affine=True)\n",
       "          (3): Linear(in_features=384, out_features=1536, bias=True)\n",
       "          (4): GELU(approximate='none')\n",
       "          (5): Linear(in_features=1536, out_features=384, bias=True)\n",
       "          (6): Permute()\n",
       "        )\n",
       "        (stochastic_depth): StochasticDepth(p=0.07058823529411766, mode=row)\n",
       "      )\n",
       "      (7): CNBlock(\n",
       "        (block): Sequential(\n",
       "          (0): Conv2d(384, 384, kernel_size=(7, 7), stride=(1, 1), padding=(3, 3), groups=384)\n",
       "          (1): Permute()\n",
       "          (2): LayerNorm((384,), eps=1e-06, elementwise_affine=True)\n",
       "          (3): Linear(in_features=384, out_features=1536, bias=True)\n",
       "          (4): GELU(approximate='none')\n",
       "          (5): Linear(in_features=1536, out_features=384, bias=True)\n",
       "          (6): Permute()\n",
       "        )\n",
       "        (stochastic_depth): StochasticDepth(p=0.07647058823529412, mode=row)\n",
       "      )\n",
       "      (8): CNBlock(\n",
       "        (block): Sequential(\n",
       "          (0): Conv2d(384, 384, kernel_size=(7, 7), stride=(1, 1), padding=(3, 3), groups=384)\n",
       "          (1): Permute()\n",
       "          (2): LayerNorm((384,), eps=1e-06, elementwise_affine=True)\n",
       "          (3): Linear(in_features=384, out_features=1536, bias=True)\n",
       "          (4): GELU(approximate='none')\n",
       "          (5): Linear(in_features=1536, out_features=384, bias=True)\n",
       "          (6): Permute()\n",
       "        )\n",
       "        (stochastic_depth): StochasticDepth(p=0.0823529411764706, mode=row)\n",
       "      )\n",
       "    )\n",
       "    (6): Sequential(\n",
       "      (0): LayerNorm2d((384,), eps=1e-06, elementwise_affine=True)\n",
       "      (1): Conv2d(384, 768, kernel_size=(2, 2), stride=(2, 2))\n",
       "    )\n",
       "    (7): Sequential(\n",
       "      (0): CNBlock(\n",
       "        (block): Sequential(\n",
       "          (0): Conv2d(768, 768, kernel_size=(7, 7), stride=(1, 1), padding=(3, 3), groups=768)\n",
       "          (1): Permute()\n",
       "          (2): LayerNorm((768,), eps=1e-06, elementwise_affine=True)\n",
       "          (3): Linear(in_features=768, out_features=3072, bias=True)\n",
       "          (4): GELU(approximate='none')\n",
       "          (5): Linear(in_features=3072, out_features=768, bias=True)\n",
       "          (6): Permute()\n",
       "        )\n",
       "        (stochastic_depth): StochasticDepth(p=0.08823529411764706, mode=row)\n",
       "      )\n",
       "      (1): CNBlock(\n",
       "        (block): Sequential(\n",
       "          (0): Conv2d(768, 768, kernel_size=(7, 7), stride=(1, 1), padding=(3, 3), groups=768)\n",
       "          (1): Permute()\n",
       "          (2): LayerNorm((768,), eps=1e-06, elementwise_affine=True)\n",
       "          (3): Linear(in_features=768, out_features=3072, bias=True)\n",
       "          (4): GELU(approximate='none')\n",
       "          (5): Linear(in_features=3072, out_features=768, bias=True)\n",
       "          (6): Permute()\n",
       "        )\n",
       "        (stochastic_depth): StochasticDepth(p=0.09411764705882353, mode=row)\n",
       "      )\n",
       "      (2): CNBlock(\n",
       "        (block): Sequential(\n",
       "          (0): Conv2d(768, 768, kernel_size=(7, 7), stride=(1, 1), padding=(3, 3), groups=768)\n",
       "          (1): Permute()\n",
       "          (2): LayerNorm((768,), eps=1e-06, elementwise_affine=True)\n",
       "          (3): Linear(in_features=768, out_features=3072, bias=True)\n",
       "          (4): GELU(approximate='none')\n",
       "          (5): Linear(in_features=3072, out_features=768, bias=True)\n",
       "          (6): Permute()\n",
       "        )\n",
       "        (stochastic_depth): StochasticDepth(p=0.1, mode=row)\n",
       "      )\n",
       "    )\n",
       "  )\n",
       "  (avgpool): AdaptiveAvgPool2d(output_size=1)\n",
       "  (classifier): Sequential(\n",
       "    (0): LayerNorm2d((768,), eps=1e-06, elementwise_affine=True)\n",
       "    (1): Flatten(start_dim=1, end_dim=-1)\n",
       "    (2): Linear(in_features=768, out_features=1000, bias=True)\n",
       "  )\n",
       ")"
      ]
     },
     "execution_count": 39,
     "metadata": {},
     "output_type": "execute_result"
    }
   ],
   "source": [
    "model"
   ]
  },
  {
   "cell_type": "code",
   "execution_count": null,
   "metadata": {},
   "outputs": [],
   "source": []
  },
  {
   "cell_type": "code",
   "execution_count": null,
   "metadata": {},
   "outputs": [],
   "source": []
  },
  {
   "cell_type": "code",
   "execution_count": null,
   "metadata": {},
   "outputs": [],
   "source": []
  },
  {
   "cell_type": "code",
   "execution_count": 22,
   "metadata": {},
   "outputs": [
    {
     "name": "stdout",
     "output_type": "stream",
     "text": [
      "True\n"
     ]
    }
   ],
   "source": [
    "import torch\n",
    "import torch.nn as nn\n",
    "\n",
    "class CustomLayerNorm(nn.Module):\n",
    "    def __init__(self, normalized_shape, eps=1e-5):\n",
    "        super(CustomLayerNorm, self).__init__()\n",
    "        self.eps = eps\n",
    "        self.gamma = nn.Parameter(torch.ones(normalized_shape))\n",
    "        self.beta = nn.Parameter(torch.zeros(normalized_shape))\n",
    "\n",
    "    def forward(self, x):\n",
    "        mean = x.mean(dim=-1, keepdim=True)\n",
    "        std = x.std(dim=-1, keepdim=True, unbiased=False)\n",
    "        return self.gamma * (x - mean) / (std + self.eps) + self.beta\n",
    "\n",
    "# Define normalized shape\n",
    "normalized_shape = 128\n",
    "\n",
    "# Initialize custom and built-in layer normalization\n",
    "custom_layer_norm = CustomLayerNorm(normalized_shape)\n",
    "builtin_layer_norm = nn.LayerNorm(normalized_shape)\n",
    "\n",
    "# Set the same weights and biases for comparison\n",
    "with torch.no_grad():\n",
    "    custom_layer_norm.gamma.copy_(builtin_layer_norm.weight)\n",
    "    custom_layer_norm.beta.copy_(builtin_layer_norm.bias)\n",
    "\n",
    "# Create input tensor\n",
    "input_tensor = torch.randn(32, normalized_shape)\n",
    "\n",
    "# Apply both normalizations\n",
    "output_custom = custom_layer_norm(input_tensor)\n",
    "output_builtin = builtin_layer_norm(input_tensor)\n",
    "\n",
    "# Check if the outputs are almost equal\n",
    "print(torch.allclose(output_custom, output_builtin, atol=1e-6))\n"
   ]
  },
  {
   "cell_type": "code",
   "execution_count": null,
   "metadata": {},
   "outputs": [],
   "source": []
  }
 ],
 "metadata": {
  "kernelspec": {
   "display_name": ".venv",
   "language": "python",
   "name": "python3"
  },
  "language_info": {
   "codemirror_mode": {
    "name": "ipython",
    "version": 3
   },
   "file_extension": ".py",
   "mimetype": "text/x-python",
   "name": "python",
   "nbconvert_exporter": "python",
   "pygments_lexer": "ipython3",
   "version": "3.10.10"
  }
 },
 "nbformat": 4,
 "nbformat_minor": 2
}
